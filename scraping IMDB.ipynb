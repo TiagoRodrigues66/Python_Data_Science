{
 "cells": [
  {
   "cell_type": "markdown",
   "metadata": {},
   "source": [
    "# Import libraries"
   ]
  },
  {
   "cell_type": "code",
   "execution_count": 1,
   "metadata": {},
   "outputs": [],
   "source": [
    "import pandas as pd\n",
    "from requests import get\n",
    "\n",
    "from bs4 import BeautifulSoup as Soup\n",
    "import numpy as np"
   ]
  },
  {
   "cell_type": "markdown",
   "metadata": {},
   "source": [
    "# Variable creator"
   ]
  },
  {
   "cell_type": "code",
   "execution_count": 2,
   "metadata": {},
   "outputs": [],
   "source": [
    "Name = []\n",
    "Year = []\n",
    "Genre = []\n",
    "Runtime = []\n",
    "Rating = []\n",
    "Votes = []\n",
    "Tipo = []"
   ]
  },
  {
   "cell_type": "code",
   "execution_count": null,
   "metadata": {},
   "outputs": [],
   "source": [
    "\n",
    "for i in range (10):\n",
    "    \n",
    "    url = get (\"https://www.imdb.com/list/ls093971121/?sort=list_order,asc&st_dt=&mode=detail&page=\"+str(i))\n",
    "   \n",
    "    request = url.text\n",
    "\n",
    "    soup_data= Soup (request,'html.parser')\n",
    "    soup_data.title.tex\n",
    "\n",
    "\n",
    "    movies = soup_data.findAll ('div',{'class':'lister-item mode-detail'})\n",
    "    \n",
    "\n",
    "    for i in movies:\n",
    "\n",
    "        Name_aux = i.h3.a\n",
    "        if Name_aux is not None:\n",
    "            Name.append (Name_aux.text)\n",
    "        else :\n",
    "            Name.append ('None')\n",
    "        \n",
    "        \n",
    "        Year_aux = i.h3.find('span', class_ = 'lister-item-year text-muted unbold')\n",
    "        if Year_aux is not None:\n",
    "            Year.append (Year_aux.text.replace('(', '').replace(')', ''))\n",
    "        else:\n",
    "            Year.append ('None')\n",
    "                    \n",
    "\n",
    "                \n",
    "        Genre_aux = i.p.find('span',class_='genre')\n",
    "        if Genre_aux is not None:\n",
    "            Genre.append (Genre_aux.text.replace('\\n',''))\n",
    "        else :\n",
    "            Genre.append ('None')\n",
    "\n",
    "            \n",
    "        Runtime_aux =  i.p.find('span', class_ = 'runtime')\n",
    "        if Runtime_aux is not None:\n",
    "            Runtime.append (Runtime_aux.text.replace('min',''))\n",
    "        else :\n",
    "            Runtime.append ('None')\n",
    "\n",
    "            \n",
    "        Rating_aux =  i.find('span',{\"class\":\"ipl-rating-star__rating\"})\n",
    "        if Rating_aux is not None:\n",
    "            Rating.append (Rating_aux.text)\n",
    "        else :\n",
    "            Rating.append ('None')  \n",
    "\n",
    "            \n",
    "        Votes_aux = i.find('span',{\"name\":\"nv\"})\n",
    "        if Votes_aux is not None:\n",
    "            Votes.append (Votes_aux.text)\n",
    "        else :\n",
    "            Votes.append ('None') \n",
    "            \n",
    "      \n",
    "        \n",
    "       \n",
    "\n",
    "\n",
    "    data = {'Name':Name , 'Year':Year , 'Runtime':Runtime , 'Rating':Rating , 'Votes':Votes , 'Genre':Genre }\n",
    "    df = pd.DataFrame (data)\n",
    "    df['Type'] = np.where(df['Year'].str.contains('–'), \"Tv Series\", \"Movie\")\n",
    "\n",
    "  \n",
    "    \n",
    "    \n",
    "    \n",
    "\n",
    "df.to_excel(r'C:\\Users\\Tiago\\Desktop\\export_netflixdataframe.xlsx', index = False, header=True)\n"
   ]
  },
  {
   "cell_type": "code",
   "execution_count": null,
   "metadata": {},
   "outputs": [],
   "source": []
  }
 ],
 "metadata": {
  "kernelspec": {
   "display_name": "Python 3",
   "language": "python",
   "name": "python3"
  },
  "language_info": {
   "codemirror_mode": {
    "name": "ipython",
    "version": 3
   },
   "file_extension": ".py",
   "mimetype": "text/x-python",
   "name": "python",
   "nbconvert_exporter": "python",
   "pygments_lexer": "ipython3",
   "version": "3.7.6"
  }
 },
 "nbformat": 4,
 "nbformat_minor": 4
}
